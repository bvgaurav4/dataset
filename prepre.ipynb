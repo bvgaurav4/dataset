{
 "cells": [
  {
   "cell_type": "code",
   "execution_count": 5,
   "metadata": {},
   "outputs": [],
   "source": [
    "import pygame\n",
    "import pandas as pd\n",
    "\n",
    "def play_music(name):\n",
    "    pygame.mixer.init()\n",
    "    pygame.mixer.music.load(name)\n",
    "    pygame.mixer.music.play()\n"
   ]
  },
  {
   "cell_type": "code",
   "execution_count": 6,
   "metadata": {},
   "outputs": [],
   "source": [
    "useless_attributes=['lang','volume','v12_id','v12_authors','indexed_abstract','page_start','page_end','isbn','issn','doc_type','url','issue','doi','keywords','abstract','title','authors','year']"
   ]
  },
  {
   "cell_type": "code",
   "execution_count": 7,
   "metadata": {},
   "outputs": [],
   "source": [
    "song=['One of the Girls (instrumental).mp3','The Weeknd - DIE FOR YOU (Lyrics).mp3']"
   ]
  },
  {
   "cell_type": "code",
   "execution_count": 8,
   "metadata": {},
   "outputs": [
    {
     "name": "stdout",
     "output_type": "stream",
     "text": [
      "[\n",
      "\n",
      "venue/0.0d0.0.json\n",
      "venue/0.0d1.0.json\n",
      "venue/0.0d2.0.json\n",
      "venue/0.0d3.0.json\n",
      "venue/0.0d4.0.json\n",
      "venue/0.0d5.0.json\n",
      "venue/0.0d6.0.json\n",
      "venue/0.0d7.0.json\n",
      "venue/0.0d8.0.json\n",
      "venue/0.0d9.0.json\n",
      "venue/1.0d0.0.json\n",
      "venue/1.0d1.0.json\n",
      "venue/1.0d2.0.json\n",
      "venue/1.0d3.0.json\n",
      "venue/1.0d4.0.json\n",
      "venue/1.0d5.0.json\n",
      "venue/1.0d6.0.json\n",
      "venue/1.0d7.0.json\n",
      "venue/1.0d8.0.json\n",
      "venue/1.0d9.0.json\n",
      "venue/2.0d0.0.json\n",
      "venue/2.0d1.0.json\n",
      "venue/2.0d2.0.json\n",
      "venue/2.0d3.0.json\n",
      "venue/2.0d4.0.json\n",
      "venue/2.0d5.0.json\n",
      "venue/2.0d6.0.json\n",
      "venue/2.0d7.0.json\n",
      "venue/2.0d8.0.json\n",
      "venue/2.0d9.0.json\n",
      "venue/3.0d0.0.json\n",
      "venue/3.0d1.0.json\n",
      "venue/3.0d2.0.json\n",
      "venue/3.0d3.0.json\n",
      "venue/3.0d4.0.json\n",
      "venue/3.0d5.0.json\n",
      "venue/3.0d6.0.json\n",
      "venue/3.0d7.0.json\n",
      "venue/3.0d8.0.json\n",
      "venue/3.0d9.0.json\n",
      "venue/4.0d0.0.json\n",
      "venue/4.0d1.0.json\n",
      "venue/4.0d2.0.json\n",
      "venue/4.0d3.0.json\n",
      "venue/4.0d4.0.json\n",
      "venue/4.0d5.0.json\n",
      "venue/4.0d6.0.json\n",
      "venue/4.0d7.0.json\n",
      "error\n",
      "venue/4.0d8.0.json\n",
      "error\n",
      "venue/4.0d9.0.json\n",
      "venue/5.0d0.0.json\n",
      "error\n",
      "venue/5.0d1.0.json\n",
      "{\"id\": \"5cd7fa07ced107d4c65bf2eb\", \"title\": \"Heterogeneous Graph Attention Network\", \"doi\": \"10.1145/3308558.3313562\", \"issue\": \"\", \"keywords\": [\"Graph Analysis\", \" Neural Network\", \" Social Network\"], \"lang\": \"en\", \"venue\": {\"raw\": \"WWW '19: The Web Conference on The World Wide Web Conference WWW 2019\"}, \"year\": 2019, \"n_citation\": 1217, \"page_start\": \"2022\", \"page_end\": \"2032\", \"volume\": \"abs/1903.07293\", \"issn\": \"\", \"isbn\": \"978-1-4503-6674-8\", \"url\": [\"https://dl.acm.org/citation.cfm?id=3313562&picked=prox&preflayout=flat\", \"https://dblp.org/rec/conf/www/WangJSWYCY19\", \"https://doi.org/10.1145/3308558.3313562\", \"db/journals/corr/corr1903.html#abs-1903-07293\", \"http://arxiv.org/abs/1903.07293\", \"http://www.webofknowledge.com/\"], \"abstract\": \"Graph neural network, as a powerful graph representation technique based on deep learning, has shown superior performance and attracted considerable research interest. However, it has not been fully considered in graph neural network for heterogeneous graph which contains different types of nodes and links. The heterogeneity and rich semantic information bring great challenges for designing a graph neural network for heterogeneous graph. Recently, one of the most exciting advancements in deep learning is the attention mechanism, whose great potential has been well demonstrated in various areas. In this paper, we first propose a novel heterogeneous graph neural network based on the hierarchical attention, including node-level and semantic-level attentions. Specifically, the node-level attention aims to learn the importance between a node and its meta-path based neighbors, while the semantic-level attention is able to learn the importance of different meta-paths. With the learned importance from both node-level and semantic-level attention, the importance of node and meta-path can be fully considered. Then the proposed model can generate node embedding by aggregating features from meta-path based neighbors in a hierarchical manner. Extensive experimental results on three real-world heterogeneous graphs not only show the superior performance of our proposed model over the state-of-the-arts, but also demonstrate its potentially good interpretability for graph analysis.\\n\\n\", \"authors\": [{\"id\": \"562d86c545cedb3398e44b9f\", \"name\": \"Xiao Wang\", \"org\": \"Beijing University of Posts and Telecommunications, China\"}, {\"id\": \"53f438f5dabfaec09f195c86\", \"name\": \"Houye Ji\", \"org\": \"Beijing University of Posts and Telecommunications, China\"}, {\"id\": \"54084a33dabfae44f0878cc6\", \"name\": \"Chuan Shi\", \"org\": \"Beijing University of Posts and Telecommunications, China\"}, {\"id\": \"542a2691dabfae5848aa0476\", \"name\": \"Bai Wang\", \"org\": \"Beijing University of Posts and Telecommunications, China\"}, {\"id\": \"53f46e79dabfaedd74e89d7d\", \"name\": \"Yanfang Ye\", \"org\": \"West Virginia University, USA\"}, {\"id\": \"5444d0e4dabfae87074e96f6\", \"name\": \"Peng Cui\", \"org\": \"Tsinghua University, China\"}, {\"id\": \"53f47977dabfae8a6845b643\", \"name\": \"Philip S Yu\", \"org\": \"University of Illinois at Chicago, USA\"}], \"doc_type\": \"Journal\", \"references\": [\"5cb1dd896558b90bfa967fc5\", \"53e9a841b7602d970318da4e\", \"53e9ae3cb7602d9703851185\", \"53e9b253b7602d9703cf4028\", \"53e9b5bcb7602d97041070ad\", \"53e9b77cb7602d970431f621\", \"5550415745ce0a409eb3a739\", \"573695fe6e3b12023e5125f8\", \"573696ce6e3b12023e5ceb9b\", \"5736977f6e3b12023e66632b\", \"57a4e91aac44365e35c97c6e\", \"57aa28de0a3ac518da9896d5\", \"57aa28de0a3ac518da9896d6\", \"57aa28de0a3ac518da9896d8\", \"58437722ac44360f1082efeb\", \"58437722ac44360f1082f2ef\", \"599c797d601a182cd2643e8a\", \"599c7988601a182cd2648a09\", \"599c798a601a182cd2649842\", \"599c7ef7601a182cd28dd948\", \"59ae3c262bbe271c4c71f4a2\", \"5a260c3517c44a4ba8a25313\", \"5b67b45517c44aac1c860812\", \"5b67b46417c44aac1c86124b\", \"5b67b45517c44aac1c860898\", \"5b67b45517c44aac1c8607a0\", \"5bdc31c217c44a1f58a0c880\", \"5c2348ceda562935fc1d5637\", \"5c8eff704895d9cbc6043836\", \"5cb1dd896558b90bfa967fc5\", \"5d9edc2547c8f766460353f1\"]}]\n",
      "error\n",
      "venue/5.0d2.0.json\n",
      "error\n",
      "venue/5.0d3.0.json\n",
      "error\n",
      "venue/5.0d4.0.json\n",
      "error\n",
      "venue/5.0d5.0.json\n",
      "error\n",
      "venue/5.0d6.0.json\n",
      "error\n",
      "venue/5.0d7.0.json\n",
      "error\n",
      "venue/5.0d8.0.json\n",
      "error\n",
      "venue/5.0d9.0.json\n"
     ]
    }
   ],
   "source": [
    "import pandas as pd\n",
    "import json \n",
    "import random\n",
    "for lol in range(0,6):\n",
    "    start=1000000*lol\n",
    "    end=1000000*(lol+1)\n",
    "    l=[]\n",
    "    with open('dblp_v14/dblp_v14.json', 'r') as f:\n",
    "        a=0\n",
    "        for i in f:\n",
    "            if(a>=start):\n",
    "                l.append(i)\n",
    "            if(a==end):\n",
    "                break\n",
    "            a+=1\n",
    "    for lo2 in range(0,10):\n",
    "        s2=100000*lo2\n",
    "        e2=100000*(lo2+1)\n",
    "        flag=l[s2:e2]\n",
    "        flag2=[]\n",
    "        for i in flag:\n",
    "            try:\n",
    "                flag2.append(json.loads(i[0:len(i)-2]))\n",
    "            except:\n",
    "                print(i)\n",
    "        df=pd.DataFrame(flag2)\n",
    "        try:\n",
    "            df.drop(useless_attributes, axis=1, inplace=True)\n",
    "        except:\n",
    "            print('error')\n",
    "        print('venue/'+str(start/1000000)+'d'+str(s2/100000)+'.json')\n",
    "        df.to_json('venue/'+str(start/1000000)+'d'+str(s2/100000)+'.json',orient='records',lines=True)\n",
    "play_music('Popular .mp3')"
   ]
  },
  {
   "cell_type": "code",
   "execution_count": null,
   "metadata": {},
   "outputs": [
    {
     "ename": "NameError",
     "evalue": "name 'play_music' is not defined",
     "output_type": "error",
     "traceback": [
      "\u001b[1;31m---------------------------------------------------------------------------\u001b[0m",
      "\u001b[1;31mNameError\u001b[0m                                 Traceback (most recent call last)",
      "Cell \u001b[1;32mIn[1], line 16\u001b[0m\n\u001b[0;32m     14\u001b[0m output_zip_file \u001b[38;5;241m=\u001b[39m \u001b[38;5;124m\"\u001b[39m\u001b[38;5;124mdatajson_no_nlp.zip\u001b[39m\u001b[38;5;124m\"\u001b[39m  \u001b[38;5;66;03m# Desired zip file name\u001b[39;00m\n\u001b[0;32m     15\u001b[0m zip_folder(folder_to_zip, output_zip_file)\n\u001b[1;32m---> 16\u001b[0m \u001b[43mplay_music\u001b[49m(song[\u001b[38;5;241m0\u001b[39m])\n",
      "\u001b[1;31mNameError\u001b[0m: name 'play_music' is not defined"
     ]
    }
   ],
   "source": [
    "import zipfile\n",
    "import os\n",
    "\n",
    "def zip_folder(folder_path, output_zip_file):\n",
    "    with zipfile.ZipFile(output_zip_file, 'w', zipfile.ZIP_DEFLATED) as zipf:\n",
    "        # os.walk() generates the file names in a directory tree\n",
    "        for root, dirs, files in os.walk(folder_path):\n",
    "            for file in files:\n",
    "                # Create a relative path to ensure correct file structure within the zip\n",
    "                relative_path = os.path.relpath(os.path.join(root, file), os.path.join(folder_path, '..'))\n",
    "                zipf.write(os.path.join(root, file), arcname=relative_path)\n",
    "\n",
    "folder_to_zip = \"datajson_no_nlp\"  # Change this to your folder's path\n",
    "output_zip_file = \"datajson_no_nlp.zip\"  # Desired zip file name\n",
    "zip_folder(folder_to_zip, output_zip_file)\n",
    "play_music(song[0])"
   ]
  },
  {
   "cell_type": "code",
   "execution_count": null,
   "metadata": {},
   "outputs": [],
   "source": []
  }
 ],
 "metadata": {
  "kernelspec": {
   "display_name": "bot",
   "language": "python",
   "name": "python3"
  },
  "language_info": {
   "codemirror_mode": {
    "name": "ipython",
    "version": 3
   },
   "file_extension": ".py",
   "mimetype": "text/x-python",
   "name": "python",
   "nbconvert_exporter": "python",
   "pygments_lexer": "ipython3",
   "version": "3.9.12"
  }
 },
 "nbformat": 4,
 "nbformat_minor": 2
}
